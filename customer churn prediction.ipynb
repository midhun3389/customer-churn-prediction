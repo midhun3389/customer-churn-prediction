{
 "cells": [
  {
   "cell_type": "code",
   "execution_count": 2,
   "metadata": {},
   "outputs": [
    {
     "name": "stdout",
     "output_type": "stream",
     "text": [
      "accuracy_score 0.812588736393753\n",
      "classification report:              precision    recall  f1-score   support\n",
      "\n",
      "          0       0.85      0.91      0.88      1585\n",
      "          1       0.66      0.52      0.58       528\n",
      "\n",
      "avg / total       0.80      0.81      0.80      2113\n",
      "\n"
     ]
    }
   ],
   "source": [
    "import pandas as pd\n",
    "from matplotlib import pyplot as plt\n",
    "from sklearn.preprocessing import LabelEncoder\n",
    "from sklearn.preprocessing import StandardScaler\n",
    "import numpy as np\n",
    "from sklearn.model_selection import train_test_split\n",
    "from sklearn.ensemble import RandomForestClassifier\n",
    "from sklearn.metrics import accuracy_score\n",
    "from sklearn import metrics\n",
    "data = pd.read_csv(\"WA_Fn-UseC_-Telco-Customer-Churn.csv\")\n",
    "data[\"TotalCharges\"] = data[\"TotalCharges\"].replace(r'\\s+',0,regex = True)\n",
    "data[\"TotalCharges\"] = pd.to_numeric(data[\"TotalCharges\"])\n",
    "data[\"TotalCharges\"] = data[\"TotalCharges\"].replace(0,round(data[\"TotalCharges\"].mean()))\n",
    "def tenure(data):\n",
    "    if data[\"tenure\"] <= 12:\n",
    "        return \"0-12\"\n",
    "    elif (data[\"tenure\"]>12) & (data[\"tenure\"] <= 24):\n",
    "        return \"12-24\"\n",
    "    elif (data[\"tenure\"]>24) & (data[\"tenure\"] <= 36):\n",
    "        return \"24-36\"\n",
    "    elif (data[\"tenure\"]>36) & (data[\"tenure\"] <= 48):\n",
    "        return \"36-48\"\n",
    "    elif (data[\"tenure\"]>48) & (data[\"tenure\"] <= 60):\n",
    "        return \"48-60\"\n",
    "    elif (data[\"tenure\"]>60):\n",
    "        return \"60--\"\n",
    "data[\"tengroup\"] = data.apply(lambda data:tenure(data),axis = 1)\n",
    "data = data.drop([\"tenure\",\"customerID\"],axis = 1)\n",
    "cols = [\"OnlineSecurity\",\"OnlineBackup\",\"DeviceProtection\",\"TechSupport\",\"StreamingTV\",\"StreamingMovies\"]\n",
    "for i in cols:\n",
    "    data[i] = data[i].replace(\"No internet service\",\"No\")\n",
    "data[\"MultipleLines\"] = data[\"MultipleLines\"].replace(\"No phone service\",\"No\")  \n",
    "cat_cols   = data.nunique()[data.nunique() < 3].keys().tolist()\n",
    "le = LabelEncoder()\n",
    "for i in cat_cols:\n",
    "    data[i] = le.fit_transform(data[i])\n",
    "data = pd.get_dummies(data,columns=[\"InternetService\",\"Contract\",\"PaymentMethod\",\"tengroup\"],drop_first=\"bool\")\n",
    "std = StandardScaler()\n",
    "num_cols = [\"MonthlyCharges\",\"TotalCharges\"]\n",
    "scaled_cols = [\"scaledmonthlycharge\",\"scaledtotalcharge\"]\n",
    "standard = std.fit_transform(data[num_cols])\n",
    "standard = pd.DataFrame(standard,columns = scaled_cols)\n",
    "frame = [standard,data]\n",
    "datas = pd.concat(frame,axis = 1)\n",
    "data = datas.drop([\"MonthlyCharges\",\"TotalCharges\"],axis=1)\n",
    "y = data[\"Churn\"]\n",
    "x = data.drop(\"Churn\",axis = 1)\n",
    "x_train,x_test,y_train,y_test = train_test_split(x,y,random_state = 1,test_size = .3)\n",
    "rf = RandomForestClassifier(n_estimators=1100,max_depth=15,min_samples_split=20,\n",
    "                            criterion= \"gini\",oob_score=True,random_state = 42,n_jobs = -1,min_samples_leaf=25)\n",
    "rf.fit(x_train,y_train)\n",
    "prediction = rf.predict(x_test)\n",
    "print(\"accuracy_score\",accuracy_score(y_test,prediction))\n",
    "print(\"classification report:\",metrics.classification_report(y_test,prediction))"
   ]
  },
  {
   "cell_type": "code",
   "execution_count": null,
   "metadata": {},
   "outputs": [],
   "source": []
  },
  {
   "cell_type": "code",
   "execution_count": null,
   "metadata": {},
   "outputs": [],
   "source": []
  }
 ],
 "metadata": {
  "kernelspec": {
   "display_name": "Python 3",
   "language": "python",
   "name": "python3"
  },
  "language_info": {
   "codemirror_mode": {
    "name": "ipython",
    "version": 3
   },
   "file_extension": ".py",
   "mimetype": "text/x-python",
   "name": "python",
   "nbconvert_exporter": "python",
   "pygments_lexer": "ipython3",
   "version": "3.6.4"
  }
 },
 "nbformat": 4,
 "nbformat_minor": 2
}
